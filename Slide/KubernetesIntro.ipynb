{
 "cells": [
  {
   "cell_type": "markdown",
   "id": "29db2613",
   "metadata": {
    "slideshow": {
     "slide_type": "slide"
    }
   },
   "source": [
    "<div class=\"jumbotron\">\n",
    "    <center>\n",
    "    <h1>Introduzione a Kubernetes</h1>\n",
    "    <h2> Rosario Cannavò, Mario Benissimo</h2>\n",
    "    <h3>A.A. 2021/2022</h3>\n",
    "    </center>\n",
    "</div>"
   ]
  },
  {
   "cell_type": "markdown",
   "id": "671fce53",
   "metadata": {
    "slideshow": {
     "slide_type": "subslide"
    }
   },
   "source": [
    "<center>\n",
    "<img src=\"meme/meme4.jpeg\" alt=\"drawing\" style=\"width:600px;\"/>\n",
    "</center>"
   ]
  },
  {
   "cell_type": "markdown",
   "id": "3c00dffe",
   "metadata": {
    "slideshow": {
     "slide_type": "slide"
    }
   },
   "source": [
    "## Perchè Kubernetes?"
   ]
  },
  {
   "cell_type": "markdown",
   "id": "4c9d1db9",
   "metadata": {
    "slideshow": {
     "slide_type": "fragment"
    }
   },
   "source": [
    "L’aumento delle applicazioni basate su microservizi ha portato all’aumento dell’utilizzo dei container, in quanto essi offrono il perfetto ambiente per applicazioni piccole e indipendenti."
   ]
  },
  {
   "cell_type": "markdown",
   "id": "a22aa5cd",
   "metadata": {
    "slideshow": {
     "slide_type": "fragment"
    }
   },
   "source": [
    "Questo trend ha portato ad applicazioni odierne che fanno uso di centinaia di container che venivano gestiti attraverso script handmade o tools privati molto difficili da utilizzare. Questo scenario ha portato alla necessità di avere un tool semplice da usare per l’orchestrazione di container."
   ]
  },
  {
   "cell_type": "markdown",
   "id": "d53cf671",
   "metadata": {
    "slideshow": {
     "slide_type": "slide"
    }
   },
   "source": [
    "<center>\n",
    "<img src=\"meme/EY4n3mWWAAABqUP.jpg\" alt=\"drawing\" style=\"width:600px;\"/>\n",
    "</center>"
   ]
  },
  {
   "cell_type": "markdown",
   "id": "72386a9e",
   "metadata": {
    "slideshow": {
     "slide_type": "slide"
    }
   },
   "source": [
    "## Cos'è Kubernetes?"
   ]
  },
  {
   "cell_type": "markdown",
   "id": "3e6fc8f8",
   "metadata": {
    "slideshow": {
     "slide_type": "subslide"
    }
   },
   "source": [
    "\n",
    "<center>\n",
    "<img src=\"meme/meme1.jpg\" alt=\"drawing\" style=\"width:500px;\"/>\n",
    "</center>"
   ]
  },
  {
   "cell_type": "markdown",
   "id": "46a64984",
   "metadata": {
    "slideshow": {
     "slide_type": "slide"
    }
   },
   "source": [
    "Kubernetes è un tool che permette l’orchestrazione di container sviluppati con tecnologia docker o simile. \n",
    "In altre parole, permette di gestire in modo efficiente le applicazioni containerizzate composte da\n",
    "centinaia di container in diversi ambienti come macchine fisiche, macchine virtuali, ambienti cloud e ambienti di sviluppo ibridi.\n"
   ]
  },
  {
   "cell_type": "markdown",
   "id": "933532f8",
   "metadata": {
    "slideshow": {
     "slide_type": "slide"
    }
   },
   "source": [
    "## Quali feature offre Kubernetes?"
   ]
  },
  {
   "cell_type": "markdown",
   "id": "c437570c",
   "metadata": {
    "slideshow": {
     "slide_type": "subslide"
    }
   },
   "source": [
    "* **High availability**: l’applicazione non ha tempi di inattività, quindi è sempre accessibile dagli utenti."
   ]
  },
  {
   "cell_type": "markdown",
   "id": "9837ecc9",
   "metadata": {
    "slideshow": {
     "slide_type": "subslide"
    }
   },
   "source": [
    "* **Scalability**: con Kubernetes è possibile scalare velocemente le applicazioni gestite quando si presenta più carico su di esse o quando quest’ultimo diminuisce."
   ]
  },
  {
   "cell_type": "markdown",
   "id": "77c080b5",
   "metadata": {
    "slideshow": {
     "slide_type": "subslide"
    }
   },
   "source": [
    "* **Disaster recovery**: se qualcosa dovesse succedere ai dati, kubernetes permette di recuperare i container allo stato precedente al disaster in modo da limitare i danni."
   ]
  },
  {
   "cell_type": "markdown",
   "id": "3bac7eb6",
   "metadata": {
    "slideshow": {
     "slide_type": "slide"
    }
   },
   "source": [
    "## Architettura di Kubernetes"
   ]
  },
  {
   "cell_type": "markdown",
   "id": "eeb08a2c",
   "metadata": {
    "slideshow": {
     "slide_type": "slide"
    }
   },
   "source": [
    "Un cluster kubernetes è composto da almeno un **nodo master** connesso ad una serie di **worker node**.\n",
    "Ogni worker node ha al suo interno diverse applicazioni containerizzate, quindi, i worker node sono effettivamente le macchine su cui girano le applicazioni.\n",
    "Il master node esegue invece diversi processi kubernetes necessari alla corretta \n",
    "gestione del cluster."
   ]
  },
  {
   "cell_type": "markdown",
   "id": "d9ec3d3b",
   "metadata": {
    "slideshow": {
     "slide_type": "fragment"
    }
   },
   "source": [
    "<center>\n",
    "<img src=\"meme/k8arch8.png\" alt=\"drawing\" style=\"width:800px;\"/>\n",
    "</center>"
   ]
  },
  {
   "cell_type": "markdown",
   "id": "e4cff204",
   "metadata": {
    "slideshow": {
     "slide_type": "slide"
    }
   },
   "source": [
    "## Componenti del Master Node"
   ]
  },
  {
   "cell_type": "markdown",
   "id": "6718392d",
   "metadata": {
    "slideshow": {
     "slide_type": "subslide"
    }
   },
   "source": [
    "Uno dei processi gestiti dal master node è un **server API** (che è a sua volta un container) e non è altro che l'entry point al cluster kubernetes, ovvero, il processo con cui i diversi client si interfacceranno."
   ]
  },
  {
   "cell_type": "markdown",
   "id": "af5447ce",
   "metadata": {
    "slideshow": {
     "slide_type": "subslide"
    }
   },
   "source": [
    "Un altro processo che gira sul nodo master è un **controller manager** il cui compito è quello di tenere sott’occhio la situazione dei vari nodi che compongono il cluster, ad esempio esso ha il compito di capire se qualcosa deve essere riparato, di capire se un container è morto e deve essere riavviato, ecc."
   ]
  },
  {
   "cell_type": "markdown",
   "id": "2c5ce311",
   "metadata": {
    "slideshow": {
     "slide_type": "subslide"
    }
   },
   "source": [
    "Un terzo processo in esecuzione sul nodo master è lo **scheduler** il cui compito è quello di schedulare i container sui diversi nodi del cluster in base al carico di lavoro e alle risorse disponibili su ogni nodo."
   ]
  },
  {
   "cell_type": "markdown",
   "id": "71b0b137",
   "metadata": {
    "slideshow": {
     "slide_type": "subslide"
    }
   },
   "source": [
    "Il quarto componente del nodo master è un **etcd**, ovvero un archivio di valori chiave che mantiene in ogni momento lo stato corrente del cluster kubernetes, mantiene dunque tutti i dati di configurazione e tutti i dati di stato di ogni nodo e di ogni container all’interno dello specifico nodo, contiene inoltre lo snapshot del backup e del ripristino utili in fase di disaster recovery. "
   ]
  },
  {
   "cell_type": "markdown",
   "id": "71c5283e",
   "metadata": {
    "slideshow": {
     "slide_type": "subslide"
    }
   },
   "source": [
    "L’ultimo componente di kubernetes che permette ai worker node di comunicare con il master node è una **rete virtuale** che abbraccia tutti i nodi che fanno parte del cluster: tramite questa rete, tutti i nodi del cluster riescono a lavorare effettivamente come un’unica macchina che ha come potenza la somma di tutte le risorse dei vari nodi."
   ]
  },
  {
   "cell_type": "markdown",
   "id": "3cfbfde3",
   "metadata": {
    "slideshow": {
     "slide_type": "slide"
    }
   },
   "source": [
    "## Confusi?"
   ]
  },
  {
   "cell_type": "markdown",
   "id": "c7cc34ef",
   "metadata": {
    "slideshow": {
     "slide_type": "slide"
    }
   },
   "source": [
    "<center>\n",
    "<img src=\"meme/img1.jpeg\" alt=\"drawing\" style=\"width:1000px;\"/>\n",
    "</center>"
   ]
  },
  {
   "cell_type": "markdown",
   "id": "4c8ab3b5",
   "metadata": {
    "slideshow": {
     "slide_type": "slide"
    }
   },
   "source": [
    "## Componenti dei worker node"
   ]
  },
  {
   "cell_type": "markdown",
   "id": "f7169856",
   "metadata": {
    "slideshow": {
     "slide_type": "subslide"
    }
   },
   "source": [
    "* **Kubelet**: Un agente che è eseguito su ogni nodo del cluster. Si assicura che i container siano eseguiti in un pod.\n",
    "La kubelet riceve un set di PodSpecs che vengono forniti attraverso vari meccanismi, e si assicura che i container descritti in questi PodSpecs funzionino correttamente e siano sani."
   ]
  },
  {
   "cell_type": "markdown",
   "id": "d959f3d9",
   "metadata": {
    "slideshow": {
     "slide_type": "subslide"
    }
   },
   "source": [
    "* **Kube-proxy**: è un proxy eseguito su ogni nodo del cluster, responsabile della gestione dei Kubernetes Service.\n",
    "I kube-proxy mantengono le regole di networking sui nodi. Queste regole permettono la comunicazione verso gli altri nodi del cluster o l'esterno."
   ]
  },
  {
   "cell_type": "markdown",
   "id": "cee28589",
   "metadata": {
    "slideshow": {
     "slide_type": "subslide"
    }
   },
   "source": [
    "* **Container Runtime**: Il container runtime è il software che è responsabile per l'esecuzione dei container.\n",
    "Kubernetes supporta diversi container runtimes: Docker, containerd, cri-o, rktlet e tutte le implementazioni di Kubernetes CRI (Container Runtime Interface).\n"
   ]
  },
  {
   "cell_type": "markdown",
   "id": "0758933b",
   "metadata": {
    "slideshow": {
     "slide_type": "slide"
    }
   },
   "source": [
    "<center>\n",
    "<img src=\"meme/final.png\" alt=\"drawing\" style=\"width:1000px;\"/>\n",
    "</center>"
   ]
  },
  {
   "cell_type": "markdown",
   "id": "81d54005",
   "metadata": {
    "slideshow": {
     "slide_type": "slide"
    }
   },
   "source": [
    "## Componenti principali di Kubernetes"
   ]
  },
  {
   "cell_type": "markdown",
   "id": "e9b89e29",
   "metadata": {
    "slideshow": {
     "slide_type": "subslide"
    }
   },
   "source": [
    "<center>\n",
    "<img src=\"meme/3c00b3383bff1ceb837a177d83c4d526.jpg\" alt=\"drawing\" style=\"width:500px;\"/>\n",
    "</center>"
   ]
  },
  {
   "cell_type": "markdown",
   "id": "959f93fc",
   "metadata": {
    "slideshow": {
     "slide_type": "slide"
    }
   },
   "source": [
    "## Namespace"
   ]
  },
  {
   "cell_type": "markdown",
   "id": "4e43c1e3",
   "metadata": {
    "slideshow": {
     "slide_type": "subslide"
    }
   },
   "source": [
    "In Kubernetes, i namespace forniscono un meccanismo per isolare gruppi di risorse all'interno di un singolo cluster. I nomi delle risorse devono essere unici all'interno di un namespace, ma non tra i namespace. Lo scoping basato sui namespace è applicabile solo agli oggetti namespace (ad esempio, Deployments, Services, ecc.) e non agli oggetti a livello di cluster (ad esempio, storage class, nodi, volumi persistenti, ecc.).\n",
    "\n"
   ]
  },
  {
   "cell_type": "markdown",
   "id": "594ff15c",
   "metadata": {
    "slideshow": {
     "slide_type": "slide"
    }
   },
   "source": [
    " ## Pod"
   ]
  },
  {
   "cell_type": "markdown",
   "id": "6a65e1d6",
   "metadata": {
    "slideshow": {
     "slide_type": "subslide"
    }
   },
   "source": [
    "La component unit  più piccola di kubernetes prende il nome di Pod. Un pod è sostanzialmente un’astrazione posta su di un container, ovvero, un pod non fa altro che creare un ambiente virtuale che viene eseguito su di un container, questo viene fatto perchè kubernetes astrae dalla tecnologia utilizzata dai container che vengono eseguiti, in modo da poterli rimpiazzare senza avere problemi di configurazione.\n"
   ]
  },
  {
   "cell_type": "markdown",
   "id": "5b431acc",
   "metadata": {
    "slideshow": {
     "slide_type": "notes"
    }
   },
   "source": [
    "E’ importante rimarcare il concetto per cui è buona norma eseguire solo un’applicazione per pod, è possibile eseguire anche più application container all’interno di un pod ma solo in alcuni casi in cui il secondo container contiene qualche servizio laterale necessario al principale"
   ]
  },
  {
   "cell_type": "markdown",
   "id": "736936ab",
   "metadata": {
    "slideshow": {
     "slide_type": "subslide"
    }
   },
   "source": [
    "Per comunicare tra di loro questi pod fanno uso della rete virtuale fornita da kubernetes, questo vuol dire che ogni pod (non il container) avrà un proprio indirizzo ip che permetterà ai pod di comunicare tra di loro.\n"
   ]
  },
  {
   "cell_type": "markdown",
   "id": "d290281f",
   "metadata": {
    "slideshow": {
     "slide_type": "subslide"
    }
   },
   "source": [
    "Un altro importante concetto di kubernetes è che i pod sono effimeri, ovvero possono morire molto facilmente a causa di problemi di varia natura. Quando questo accade, viene ricreato un nuovo pod che andrà a sostituire quello precedente e che avrà un indirizzo ip diverso, il che è molto scomodo per la comunicazione."
   ]
  },
  {
   "cell_type": "markdown",
   "id": "1cad07dd",
   "metadata": {
    "slideshow": {
     "slide_type": "subslide"
    }
   },
   "source": [
    "<center>\n",
    "<img src=\"meme/carmeme.png\" alt=\"drawing\" style=\"width:900px;\"/>\n",
    "</center>"
   ]
  },
  {
   "cell_type": "markdown",
   "id": "8131bb81",
   "metadata": {
    "slideshow": {
     "slide_type": "slide"
    }
   },
   "source": [
    "## Service & Ingress"
   ]
  },
  {
   "cell_type": "markdown",
   "id": "c0600f8a",
   "metadata": {
    "slideshow": {
     "slide_type": "subslide"
    }
   },
   "source": [
    "Un service non è altro che un indirizzo ip statico o un indirizzo ip permanente che può essere collegato ad ogni pod. Il lifecycle del pod e del service non sono connessi, questo vuol dire che il pod che andrà eventualmente a sostituire un precedente pod morto avrà lo stesso service, ovvero lo stesso indirizzo ip. Un’altra funzione del service è quella di fare da load balancer del carico che grava sull'applicazione.\n",
    " \n"
   ]
  },
  {
   "cell_type": "markdown",
   "id": "b2c2357c",
   "metadata": {
    "slideshow": {
     "slide_type": "notes"
    }
   },
   "source": [
    "Ad esempio nel caso di un database, collegando un service, avremo la sicurezza che questo servizio sia sempre raggiungibile allo stesso indirizzo."
   ]
  },
  {
   "cell_type": "markdown",
   "id": "5ea2bbd9",
   "metadata": {
    "slideshow": {
     "slide_type": "subslide"
    }
   },
   "source": [
    "Un altro componente di kubernetes prende il nome di ingress, esso permette di assegnare un nome al service, in questo modo, le richieste dall’esterno passeranno prima verso l’ingress (legato al nodo) che si occuperà poi di effettuare l’inoltro in locale ai vari pod. "
   ]
  },
  {
   "cell_type": "markdown",
   "id": "9ea44adf",
   "metadata": {
    "slideshow": {
     "slide_type": "slide"
    }
   },
   "source": [
    "## Esempio "
   ]
  },
  {
   "cell_type": "markdown",
   "id": "b6727962",
   "metadata": {
    "slideshow": {
     "slide_type": "subslide"
    }
   },
   "source": [
    "Immaginiamo uno scenario in cui una webapp comunica con un database MongoDB all'interno di un cluster kubernetes, lo scenario sarebbe il seguente:"
   ]
  },
  {
   "cell_type": "markdown",
   "id": "741b7895",
   "metadata": {
    "slideshow": {
     "slide_type": "subslide"
    }
   },
   "source": [
    "<center>\n",
    "<img src=\"meme/sei.jpeg\" alt=\"drawing\" style=\"width:800px;\"/>\n",
    "</center>"
   ]
  },
  {
   "cell_type": "markdown",
   "id": "0be276d1",
   "metadata": {
    "slideshow": {
     "slide_type": "slide"
    }
   },
   "source": [
    "## ConfigMap & Secret"
   ]
  },
  {
   "cell_type": "markdown",
   "id": "3f90741b",
   "metadata": {
    "slideshow": {
     "slide_type": "subslide"
    }
   },
   "source": [
    "Una configmap è un file di configurazione che contiene dati di configurazione. Grazie alle configmap non è necessario dover creare una nuova immagine per ogni piccolo cambiamento del sistema."
   ]
  },
  {
   "cell_type": "markdown",
   "id": "d7840b90",
   "metadata": {
    "slideshow": {
     "slide_type": "subslide"
    }
   },
   "source": [
    "Parte della configurazione possono essere anche delle password (anch’esse possono cambiare nel ciclo di vita dell’applicazione). Memorizzare una password  come testo in chiaro in un file di configurazione sarebbe poco sicuro, per questo motivo kubernetes introduce un altro componente che prende il nome di secret e viene utilizzato per memorizzare credenziali codificandole in base64, ovviamente questo non basta per la sicurezza quindi il secret file va crittografato utilizzato tool di terze parti.\n",
    "Come per la configmap. il secret va connesso al pod in modo che esso possa visualizzarlo e configurarsi."
   ]
  },
  {
   "cell_type": "markdown",
   "id": "0824e5ba",
   "metadata": {
    "slideshow": {
     "slide_type": "slide"
    }
   },
   "source": [
    "Ritornando al nostro esempio, la sitauazione sarebbe la seguente:"
   ]
  },
  {
   "cell_type": "markdown",
   "id": "3171f9fa",
   "metadata": {
    "slideshow": {
     "slide_type": "subslide"
    }
   },
   "source": [
    "<center>\n",
    "<img src=\"meme/ces.jpeg\" alt=\"drawing\" style=\"width:800px;\"/>\n",
    "</center>"
   ]
  },
  {
   "cell_type": "markdown",
   "id": "cc6c24e9",
   "metadata": {
    "slideshow": {
     "slide_type": "slide"
    }
   },
   "source": [
    "## Volume"
   ]
  },
  {
   "cell_type": "markdown",
   "id": "9972f39d",
   "metadata": {
    "slideshow": {
     "slide_type": "subslide"
    }
   },
   "source": [
    "Un altro concetto molto importante è quello del data storage. \n",
    "Nella pratica quello che si fa è “attaccare” il pod ad uno storage fisico che può essere sia in locale, ovvero nella stessa macchina che ospita il nodo del cluster kubernetes su cui sta girando il pod che in remoto, anche all’esterno del cluster kubernetes. In questo modo, se il pod ospitante il database del nostro esempio dovesse perdersi, i dati rimarrebbero comunque memorizzati in modo persistente su questo storage esterno. \n",
    "Da questa caratteristica è possibile intuire che kubernetes non gestisce lo storage persistente.\n"
   ]
  },
  {
   "cell_type": "markdown",
   "id": "4585255a",
   "metadata": {
    "slideshow": {
     "slide_type": "slide"
    }
   },
   "source": [
    "## Deployment"
   ]
  },
  {
   "cell_type": "markdown",
   "id": "80f89611",
   "metadata": {
    "slideshow": {
     "slide_type": "subslide"
    }
   },
   "source": [
    "Si osserva che anzichè effettuare n repliche di un pod, kubernetes offre la possibilità di definire una blueprint e di specificare quante copie vogliamo avere nel nostro pod.\n",
    "Questi blueprint prendono il nome di deployment e sono un’altro componente di kubernetes.\n",
    "Abbiamo detto che un pod è un livello di astrazione costruito su di un container che gira in un nodo del nostro cluster kubernetes.\n",
    "Alla luce di quanto detto è possibile definire un deployment come l’astrazione di un pod."
   ]
  },
  {
   "cell_type": "markdown",
   "id": "18877d04",
   "metadata": {
    "slideshow": {
     "slide_type": "fragment"
    }
   },
   "source": [
    "A questo punto, se una delle repliche del pod su cui gira la nostra applicazione dovesse morire, il service inoltrerebbe la richiesta ad un altro pod replica, in questo modo il servizio rimarrebbe accessibile per l’utente."
   ]
  },
  {
   "cell_type": "markdown",
   "id": "7b5a784b",
   "metadata": {
    "slideshow": {
     "slide_type": "slide"
    }
   },
   "source": [
    "<center>\n",
    "<img src=\"meme/poohmeme.jpeg\" alt=\"drawing\" style=\"width:500px;\"/>\n",
    "</center>"
   ]
  },
  {
   "cell_type": "markdown",
   "id": "118a16fa",
   "metadata": {
    "slideshow": {
     "slide_type": "slide"
    }
   },
   "source": [
    "## Job"
   ]
  },
  {
   "cell_type": "markdown",
   "id": "c410be8e",
   "metadata": {
    "slideshow": {
     "slide_type": "subslide"
    }
   },
   "source": [
    "Un Job crea uno o più pod e continuerà a riprovare l'esecuzione di essi finché un numero specificato di pod non termina con successo. Man mano che i pod si completano con successo, il job tiene traccia dei completamenti riusciti. Quando viene raggiunto un numero specificato di completamenti riusciti, l'attività (cioè il job) è completa. L'eliminazione di un job fa il clear i pod creati."
   ]
  },
  {
   "cell_type": "markdown",
   "id": "74adc708",
   "metadata": {
    "slideshow": {
     "slide_type": "slide"
    }
   },
   "source": [
    "## StatefulSet"
   ]
  },
  {
   "cell_type": "markdown",
   "id": "85a99006",
   "metadata": {
    "slideshow": {
     "slide_type": "subslide"
    }
   },
   "source": [
    "Ponendoci nel caso in cui un database nel nostro cluster dovesse morire, andremmo incontro ad un’altra tipologia di problema in quanto il database ha uno stato (i dati che ospita) e non può essere replicato utilizzando i deployment.\n",
    "Se avessimo diverse repliche del nostro database, tutte dovrebbero avere accesso alla stessa area di memoria condivisa, avremmo bisogno di un meccanismo in grado di gestire quale replica del pod sta scrivendo nello storage e quali repliche stanno invece leggendo in modo da evitare problemi di inconsistenza (race condition).\n"
   ]
  },
  {
   "cell_type": "markdown",
   "id": "3f3b6dca",
   "metadata": {
    "slideshow": {
     "slide_type": "subslide"
    }
   },
   "source": [
    "Per evitare questa tipologia di problemi, viene introdotto un ulteriore componente di kubernetes, ovvero gli statefulset. Questi componenti sono stati studiati accuratamente per le applicazioni come i database. \n",
    "A tal proposito, tutte le applicazioni:\n",
    "* **stateful**, come i database, vengono create utilizzando gli statefulset;\n",
    "* **stateless**, come le applicazioni statiche, vengono create utilizzando i deployment;"
   ]
  },
  {
   "cell_type": "markdown",
   "id": "c6e0575c",
   "metadata": {
    "slideshow": {
     "slide_type": "subslide"
    }
   },
   "source": [
    "Uno statefulset si occupa quindi sia di gestire la scalabilità del sistema sia della sincronizzazione della lettura e scrittura sul database in modo che i dati al suo interno rimangano consistenti. Nonostante ciò, impostare uno stateful è molto complesso, per tale motivo è molto comune implementare i database al di fuori del cluster k8 e lasciare al suo interno solo le applicazioni stateless."
   ]
  },
  {
   "cell_type": "markdown",
   "id": "0aa26099",
   "metadata": {
    "slideshow": {
     "slide_type": "subslide"
    }
   },
   "source": [
    "<center>\n",
    "<img src=\"meme/spotify.jpeg\" alt=\"drawing\" style=\"width:1;\"/>\n",
    "</center>"
   ]
  },
  {
   "cell_type": "markdown",
   "id": "e79a6ebb",
   "metadata": {
    "slideshow": {
     "slide_type": "slide"
    }
   },
   "source": [
    "## Configurazione Kubernetes"
   ]
  },
  {
   "cell_type": "markdown",
   "id": "13f347b9",
   "metadata": {
    "slideshow": {
     "slide_type": "subslide"
    }
   },
   "source": [
    "Tutte le configurazioni del cluster kubernetes passano attraverso il processo api server ospitato dal master node. Al processo api server può essere connessa una UI kubernetes o una CLI come kubernetesCLI per passare i file di configurazione.\n",
    "Tutti i file di configurazione vanno passata all’api server in formato YAML o JSON.\n",
    "\n",
    "La configurazione di kubernetes viene fatta in modo dichiarativo, quindi va dichiarato quello che è l’output desiderato da kubernetes."
   ]
  },
  {
   "cell_type": "markdown",
   "id": "dc2371f2",
   "metadata": {
    "slideshow": {
     "slide_type": "subslide"
    }
   },
   "source": [
    "<center>\n",
    "<img src=\"meme/yaml.jpeg\" alt=\"drawing\" style=\"width:800px;\"/>\n",
    "</center>"
   ]
  },
  {
   "cell_type": "markdown",
   "id": "b14ac192",
   "metadata": {
    "slideshow": {
     "slide_type": "slide"
    }
   },
   "source": [
    "## File di configurazione\n",
    "Ogni file di configurazione kubernetes è diviso in 3  in parti:"
   ]
  },
  {
   "cell_type": "markdown",
   "id": "806ac8de",
   "metadata": {
    "slideshow": {
     "slide_type": "subslide"
    }
   },
   "source": [
    "* La prima parte è quella in cui i metadati dei componenti che stiamo creando risiedono;"
   ]
  },
  {
   "cell_type": "markdown",
   "id": "e6bf50ef",
   "metadata": {
    "slideshow": {
     "slide_type": "subslide"
    }
   },
   "source": [
    "* La seconda parte comprende le specification, in questa parte si dichiarano tutte le configurazioni che vogliamo applicare a quel component. All’interno di questa parte gli attributi specificati devono essere inerenti alla tipologia di configurazione che stiamo creando (Deployment o Service, ecc) [ogni componente deve avere il suo file di configurazione];"
   ]
  },
  {
   "cell_type": "markdown",
   "id": "c59b6377",
   "metadata": {
    "slideshow": {
     "slide_type": "subslide"
    }
   },
   "source": [
    "* La terza parte è lo status ma viene generata automaticamente da kubernetes, esso permette di effettuare un confronto tra le feature desiderate e quelle specificate, se qualcosa non combacia kubernetes se ne rende conto e cerca di provvedere, questa specifica sta alla base del meccanismo di self-healing di kubernetes. Tutte le configurazioni sullo status di kubernetes vengono dalla etcd che mantiene in ogni momento le informazioni di stato di ogni elemento."
   ]
  },
  {
   "cell_type": "markdown",
   "id": "702603fe",
   "metadata": {
    "slideshow": {
     "slide_type": "slide"
    }
   },
   "source": [
    "## Minikube e KubeCTL"
   ]
  },
  {
   "cell_type": "markdown",
   "id": "f1efe771",
   "metadata": {
    "slideshow": {
     "slide_type": "subslide"
    }
   },
   "source": [
    "Generalmente in un custer kubernetes in produzione sono presenti almeno due master e almeno due nodi worker.\n",
    "Ogni nodo lavora su una macchina fisica o virtuale separata, quindi, se volessimo effettuare dei test in locale, settare un cluster di questa tipologia sarebbe molto difficile e oneroso dal punto di vista delle risorse, per tale motivo è stato creato minikube. Minikube non è altro che un cluster formato da un solo nodo in cui sia i processi master che i processi worker vengono eseguiti. Questo nodo avrà un container docker preinstallato in modo da avere la possibilità di installare dei container o dei pod su questo nodo."
   ]
  },
  {
   "cell_type": "markdown",
   "id": "75951c8f",
   "metadata": {
    "slideshow": {
     "slide_type": "slide"
    }
   },
   "source": [
    "<center>\n",
    "<img src=\"meme/3.3.png\" alt=\"drawing\" style=\"width:800px;\"/>\n",
    "</center>"
   ]
  },
  {
   "cell_type": "markdown",
   "id": "a110a881",
   "metadata": {
    "slideshow": {
     "slide_type": "slide"
    }
   },
   "source": [
    "<center>\n",
    "<img src=\"meme/1_yZAMZDl7eFQ8xQDaPEbPBg.png\" alt=\"drawing\" style=\"width:800px;\"/>\n",
    "</center>"
   ]
  },
  {
   "cell_type": "markdown",
   "id": "ec03efa4",
   "metadata": {
    "slideshow": {
     "slide_type": "slide"
    }
   },
   "source": [
    "<center>\n",
    "<img src=\"meme/1_ylaasu1x_ABHSHXQzhiGaw.png\" alt=\"drawing\" style=\"width:700px;\"/>\n",
    "</center>"
   ]
  },
  {
   "cell_type": "markdown",
   "id": "cb690dee",
   "metadata": {
    "slideshow": {
     "slide_type": "subslide"
    }
   },
   "source": [
    "Una volta creato questo unico nodo con minikube in locale, è necessario disporre di uno strumento che permetta di interagire con questo cluster, per creare le configurazioni necessarie. Per fare ciò viene utilizzato kubectl, ovvero uno strumento a linea di comando per interagire con il cluster kubernetes. Kubectl non viene utilizzato solo per minikube ma anche per i cluster kubernetes reali."
   ]
  },
  {
   "cell_type": "markdown",
   "id": "aff65d6b",
   "metadata": {
    "slideshow": {
     "slide_type": "subslide"
    }
   },
   "source": [
    "<center>\n",
    "<img src=\"meme/kubectl-architecture.png\" alt=\"drawing\" style=\"width:800px;\"/>\n",
    "</center>"
   ]
  },
  {
   "cell_type": "markdown",
   "id": "0fc35c86",
   "metadata": {
    "slideshow": {
     "slide_type": "subslide"
    }
   },
   "source": [
    "<center>\n",
    "<img src=\"meme/pic1.svg\" alt=\"drawing\" style=\"width:800px;\"/>\n",
    "</center>"
   ]
  },
  {
   "cell_type": "markdown",
   "id": "80338cd7",
   "metadata": {
    "slideshow": {
     "slide_type": "slide"
    }
   },
   "source": [
    "## Demo"
   ]
  },
  {
   "cell_type": "markdown",
   "id": "2cdd318f",
   "metadata": {
    "slideshow": {
     "slide_type": "slide"
    }
   },
   "source": [
    "<center>\n",
    "<img src=\"meme/ez.png\" alt=\"drawing\" style=\"width:500px;\"/>\n",
    "</center>"
   ]
  },
  {
   "cell_type": "markdown",
   "id": "9e2edd19",
   "metadata": {
    "slideshow": {
     "slide_type": "subslide"
    }
   },
   "source": [
    "<center>\n",
    "<img src=\"meme/dockerHub.png\" alt=\"drawing\" style=\"width:700px;\"/>\n",
    "</center>"
   ]
  },
  {
   "cell_type": "markdown",
   "id": "09ae2485",
   "metadata": {
    "slideshow": {
     "slide_type": "slide"
    }
   },
   "source": [
    "<center>\n",
    "<img src=\"meme/pipeline.png\" alt=\"drawing\" style=\"width:600px;\"/>\n",
    "</center>"
   ]
  },
  {
   "cell_type": "code",
   "execution_count": null,
   "id": "4c858705",
   "metadata": {
    "slideshow": {
     "slide_type": "slide"
    }
   },
   "outputs": [],
   "source": [
    "%%bash \n",
    "cd ..\n",
    "cd ./Kubernetes\n",
    "ls\n",
    "bash startKube.sh"
   ]
  },
  {
   "cell_type": "code",
   "execution_count": null,
   "id": "69c88d0d",
   "metadata": {
    "slideshow": {
     "slide_type": "slide"
    }
   },
   "outputs": [],
   "source": [
    "%%bash\n",
    "kubectl get all -n demospace"
   ]
  },
  {
   "cell_type": "code",
   "execution_count": null,
   "id": "d92d85d0",
   "metadata": {
    "scrolled": true,
    "slideshow": {
     "slide_type": "slide"
    }
   },
   "outputs": [],
   "source": [
    "%%bash\n",
    "kubectl logs queue-consumer-job-r8spl -n demospace"
   ]
  },
  {
   "cell_type": "markdown",
   "id": "6a0af082",
   "metadata": {
    "slideshow": {
     "slide_type": "slide"
    }
   },
   "source": [
    "<center>\n",
    "<img src=\"meme/how-you-deploy-a-container-on-kubernetes.jpg\" alt=\"drawing\" style=\"width:900px;\"/>\n",
    "</center>"
   ]
  }
 ],
 "metadata": {
  "celltoolbar": "Slideshow",
  "kernelspec": {
   "display_name": "Python 3 (ipykernel)",
   "language": "python",
   "name": "python3"
  },
  "language_info": {
   "codemirror_mode": {
    "name": "ipython",
    "version": 3
   },
   "file_extension": ".py",
   "mimetype": "text/x-python",
   "name": "python",
   "nbconvert_exporter": "python",
   "pygments_lexer": "ipython3",
   "version": "3.10.4"
  }
 },
 "nbformat": 4,
 "nbformat_minor": 5
}
